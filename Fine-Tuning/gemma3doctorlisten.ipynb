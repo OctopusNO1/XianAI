{
 "cells": [
  {
   "cell_type": "code",
   "execution_count": 7,
   "metadata": {
    "execution": {
     "iopub.execute_input": "2025-06-05T06:15:28.303842Z",
     "iopub.status.busy": "2025-06-05T06:15:28.303491Z",
     "iopub.status.idle": "2025-06-05T06:15:41.469476Z",
     "shell.execute_reply": "2025-06-05T06:15:41.467933Z",
     "shell.execute_reply.started": "2025-06-05T06:15:28.303799Z"
    },
    "trusted": true
   },
   "outputs": [
    {
     "name": "stdout",
     "output_type": "stream",
     "text": [
      "Collecting git+https://github.com/Uberi/speech_recognition.git\n",
      "  Cloning https://github.com/Uberi/speech_recognition.git to /tmp/pip-req-build-7pc8tubi\n",
      "  Running command git clone --filter=blob:none --quiet https://github.com/Uberi/speech_recognition.git /tmp/pip-req-build-7pc8tubi\n",
      "  Resolved https://github.com/Uberi/speech_recognition.git to commit 46e70560f605ed190b3b0c16f198ee34978de585\n",
      "  Preparing metadata (setup.py) ... \u001b[?25l\u001b[?25hdone\n",
      "Requirement already satisfied: typing-extensions in /usr/local/lib/python3.11/dist-packages (from SpeechRecognition==3.14.3) (4.13.2)\n",
      "Collecting pyttsx3\n",
      "  Downloading pyttsx3-2.98-py3-none-any.whl.metadata (3.8 kB)\n",
      "Downloading pyttsx3-2.98-py3-none-any.whl (34 kB)\n",
      "Installing collected packages: pyttsx3\n",
      "Successfully installed pyttsx3-2.98\n"
     ]
    }
   ],
   "source": [
    "!pip install git+https://github.com/Uberi/speech_recognition.git\n",
    "!pip install pyttsx3"
   ]
  },
  {
   "cell_type": "code",
   "execution_count": 12,
   "metadata": {
    "execution": {
     "iopub.execute_input": "2025-06-05T06:47:07.487298Z",
     "iopub.status.busy": "2025-06-05T06:47:07.486786Z",
     "iopub.status.idle": "2025-06-05T06:47:27.465292Z",
     "shell.execute_reply": "2025-06-05T06:47:27.463417Z",
     "shell.execute_reply.started": "2025-06-05T06:47:07.487249Z"
    },
    "trusted": true
   },
   "outputs": [
    {
     "name": "stdout",
     "output_type": "stream",
     "text": [
      "Hit:1 http://archive.ubuntu.com/ubuntu jammy InRelease\n",
      "Get:2 http://archive.ubuntu.com/ubuntu jammy-updates InRelease [128 kB]                             \n",
      "Get:3 https://cloud.r-project.org/bin/linux/ubuntu jammy-cran40/ InRelease [3,632 B]                \n",
      "Get:4 https://developer.download.nvidia.com/compute/cuda/repos/ubuntu2204/x86_64  InRelease [1,581 B]\n",
      "Get:5 http://archive.ubuntu.com/ubuntu jammy-backports InRelease [127 kB]                           \n",
      "Get:6 https://ppa.launchpadcontent.net/deadsnakes/ppa/ubuntu jammy InRelease [18.1 kB]              \n",
      "Get:7 https://ppa.launchpadcontent.net/graphics-drivers/ppa/ubuntu jammy InRelease [24.3 kB]        \n",
      "Get:8 http://security.ubuntu.com/ubuntu jammy-security InRelease [129 kB]                           \n",
      "Get:9 https://ppa.launchpadcontent.net/ubuntugis/ppa/ubuntu jammy InRelease [24.6 kB]               \n",
      "Get:10 https://r2u.stat.illinois.edu/ubuntu jammy InRelease [6,555 B]                               \n",
      "Get:11 https://developer.download.nvidia.com/compute/cuda/repos/ubuntu2204/x86_64  Packages [1,741 kB]\n",
      "Get:12 http://archive.ubuntu.com/ubuntu jammy-updates/main amd64 Packages [3,295 kB]\n",
      "Get:13 http://archive.ubuntu.com/ubuntu jammy-updates/universe amd64 Packages [1,553 kB]\n",
      "Get:14 http://archive.ubuntu.com/ubuntu jammy-updates/restricted amd64 Packages [4,630 kB]\n",
      "Get:15 http://archive.ubuntu.com/ubuntu jammy-backports/main amd64 Packages [83.2 kB]\n",
      "Get:16 http://archive.ubuntu.com/ubuntu jammy-backports/universe amd64 Packages [35.2 kB]\n",
      "Get:17 https://ppa.launchpadcontent.net/deadsnakes/ppa/ubuntu jammy/main amd64 Packages [32.8 kB]\n",
      "Get:18 https://ppa.launchpadcontent.net/graphics-drivers/ppa/ubuntu jammy/main amd64 Packages [46.6 kB]\n",
      "Get:19 https://ppa.launchpadcontent.net/ubuntugis/ppa/ubuntu jammy/main amd64 Packages [75.1 kB]\n",
      "Get:20 http://security.ubuntu.com/ubuntu jammy-security/main amd64 Packages [2,984 kB]\n",
      "Get:21 https://r2u.stat.illinois.edu/ubuntu jammy/main amd64 Packages [2,739 kB]\n",
      "Get:22 http://security.ubuntu.com/ubuntu jammy-security/universe amd64 Packages [1,245 kB]\n",
      "Get:23 http://security.ubuntu.com/ubuntu jammy-security/restricted amd64 Packages [4,476 kB]   \n",
      "Get:24 https://r2u.stat.illinois.edu/ubuntu jammy/main all Packages [9,003 kB]                 \n",
      "Fetched 32.4 MB in 4s (8,320 kB/s)                             \n",
      "Reading package lists... Done\n",
      "W: Skipping acquire of configured file 'main/source/Sources' as repository 'https://r2u.stat.illinois.edu/ubuntu jammy InRelease' does not seem to provide it (sources.list entry misspelt?)\n",
      "Reading package lists... Done\n",
      "Building dependency tree... Done\n",
      "Reading state information... Done\n",
      "The following additional packages will be installed:\n",
      "  espeak-ng-data libespeak-ng1 libpcaudio0 libsonic0\n",
      "The following NEW packages will be installed:\n",
      "  espeak-ng espeak-ng-data libespeak-ng1 libpcaudio0 libsonic0\n",
      "0 upgraded, 5 newly installed, 0 to remove and 181 not upgraded.\n",
      "Need to get 4,526 kB of archives.\n",
      "After this operation, 11.9 MB of additional disk space will be used.\n",
      "Get:1 http://archive.ubuntu.com/ubuntu jammy/main amd64 libpcaudio0 amd64 1.1-6build2 [8,956 B]\n",
      "Get:2 http://archive.ubuntu.com/ubuntu jammy/main amd64 libsonic0 amd64 0.2.0-11build1 [10.3 kB]\n",
      "Get:3 http://archive.ubuntu.com/ubuntu jammy-updates/main amd64 espeak-ng-data amd64 1.50+dfsg-10ubuntu0.1 [3,956 kB]\n",
      "Get:4 http://archive.ubuntu.com/ubuntu jammy-updates/main amd64 libespeak-ng1 amd64 1.50+dfsg-10ubuntu0.1 [207 kB]\n",
      "Get:5 http://archive.ubuntu.com/ubuntu jammy-updates/universe amd64 espeak-ng amd64 1.50+dfsg-10ubuntu0.1 [343 kB]\n",
      "Fetched 4,526 kB in 0s (27.2 MB/s) \n",
      "Selecting previously unselected package libpcaudio0:amd64.\n",
      "(Reading database ... 129184 files and directories currently installed.)\n",
      "Preparing to unpack .../libpcaudio0_1.1-6build2_amd64.deb ...\n",
      "Unpacking libpcaudio0:amd64 (1.1-6build2) ...\n",
      "Selecting previously unselected package libsonic0:amd64.\n",
      "Preparing to unpack .../libsonic0_0.2.0-11build1_amd64.deb ...\n",
      "Unpacking libsonic0:amd64 (0.2.0-11build1) ...\n",
      "Selecting previously unselected package espeak-ng-data:amd64.\n",
      "Preparing to unpack .../espeak-ng-data_1.50+dfsg-10ubuntu0.1_amd64.deb ...\n",
      "Unpacking espeak-ng-data:amd64 (1.50+dfsg-10ubuntu0.1) ...\n",
      "Selecting previously unselected package libespeak-ng1:amd64.\n",
      "Preparing to unpack .../libespeak-ng1_1.50+dfsg-10ubuntu0.1_amd64.deb ...\n",
      "Unpacking libespeak-ng1:amd64 (1.50+dfsg-10ubuntu0.1) ...\n",
      "Selecting previously unselected package espeak-ng.\n",
      "Preparing to unpack .../espeak-ng_1.50+dfsg-10ubuntu0.1_amd64.deb ...\n",
      "Unpacking espeak-ng (1.50+dfsg-10ubuntu0.1) ...\n",
      "Setting up libpcaudio0:amd64 (1.1-6build2) ...\n",
      "Setting up libsonic0:amd64 (0.2.0-11build1) ...\n",
      "Setting up espeak-ng-data:amd64 (1.50+dfsg-10ubuntu0.1) ...\n",
      "Setting up libespeak-ng1:amd64 (1.50+dfsg-10ubuntu0.1) ...\n",
      "Setting up espeak-ng (1.50+dfsg-10ubuntu0.1) ...\n",
      "Processing triggers for man-db (2.10.2-1) ...\n",
      "Processing triggers for libc-bin (2.35-0ubuntu3.8) ...\n",
      "/sbin/ldconfig.real: /usr/local/lib/libumf.so.0 is not a symbolic link\n",
      "\n",
      "/sbin/ldconfig.real: /usr/local/lib/libtcm.so.1 is not a symbolic link\n",
      "\n",
      "/sbin/ldconfig.real: /usr/local/lib/libtcm_debug.so.1 is not a symbolic link\n",
      "\n",
      "/sbin/ldconfig.real: /usr/local/lib/libhwloc.so.15 is not a symbolic link\n",
      "\n",
      "/sbin/ldconfig.real: /usr/local/lib/libur_loader.so.0 is not a symbolic link\n",
      "\n",
      "/sbin/ldconfig.real: /usr/local/lib/libur_adapter_level_zero.so.0 is not a symbolic link\n",
      "\n",
      "/sbin/ldconfig.real: /usr/local/lib/libur_adapter_opencl.so.0 is not a symbolic link\n",
      "\n",
      "/sbin/ldconfig.real: /usr/local/lib/libtbbbind_2_5.so.3 is not a symbolic link\n",
      "\n",
      "/sbin/ldconfig.real: /usr/local/lib/libtbbbind.so.3 is not a symbolic link\n",
      "\n",
      "/sbin/ldconfig.real: /usr/local/lib/libtbbbind_2_0.so.3 is not a symbolic link\n",
      "\n",
      "/sbin/ldconfig.real: /usr/local/lib/libtbb.so.12 is not a symbolic link\n",
      "\n",
      "/sbin/ldconfig.real: /usr/local/lib/libtbbmalloc_proxy.so.2 is not a symbolic link\n",
      "\n",
      "/sbin/ldconfig.real: /usr/local/lib/libtbbmalloc.so.2 is not a symbolic link\n",
      "\n"
     ]
    }
   ],
   "source": [
    "!apt-get update && apt-get install -y espeak-ng"
   ]
  },
  {
   "cell_type": "code",
   "execution_count": 21,
   "metadata": {
    "execution": {
     "iopub.execute_input": "2025-06-05T07:37:03.931757Z",
     "iopub.status.busy": "2025-06-05T07:37:03.930713Z",
     "iopub.status.idle": "2025-06-05T07:37:14.635603Z",
     "shell.execute_reply": "2025-06-05T07:37:14.634317Z",
     "shell.execute_reply.started": "2025-06-05T07:37:03.931724Z"
    },
    "trusted": true
   },
   "outputs": [
    {
     "name": "stdout",
     "output_type": "stream",
     "text": [
      "Hit:1 http://security.ubuntu.com/ubuntu jammy-security InRelease\n",
      "Hit:2 https://developer.download.nvidia.com/compute/cuda/repos/ubuntu2204/x86_64  InRelease         \n",
      "Hit:3 https://cloud.r-project.org/bin/linux/ubuntu jammy-cran40/ InRelease                          \n",
      "Hit:4 https://ppa.launchpadcontent.net/deadsnakes/ppa/ubuntu jammy InRelease                        \n",
      "Hit:5 https://ppa.launchpadcontent.net/graphics-drivers/ppa/ubuntu jammy InRelease                  \n",
      "Hit:6 https://ppa.launchpadcontent.net/ubuntugis/ppa/ubuntu jammy InRelease   \n",
      "Hit:7 http://archive.ubuntu.com/ubuntu jammy InRelease                        \n",
      "Hit:8 http://archive.ubuntu.com/ubuntu jammy-updates InRelease                \n",
      "Hit:9 http://archive.ubuntu.com/ubuntu jammy-backports InRelease              \n",
      "Hit:10 https://r2u.stat.illinois.edu/ubuntu jammy InRelease\n",
      "Reading package lists... Done\n",
      "W: Skipping acquire of configured file 'main/source/Sources' as repository 'https://r2u.stat.illinois.edu/ubuntu jammy InRelease' does not seem to provide it (sources.list entry misspelt?)\n",
      "Reading package lists... Done\n",
      "Building dependency tree... Done\n",
      "Reading state information... Done\n",
      "The following additional packages will be installed:\n",
      "  libportaudio2 libportaudiocpp0\n",
      "Suggested packages:\n",
      "  portaudio19-doc\n",
      "The following NEW packages will be installed:\n",
      "  libportaudio2 libportaudiocpp0 portaudio19-dev\n",
      "0 upgraded, 3 newly installed, 0 to remove and 181 not upgraded.\n",
      "Need to get 188 kB of archives.\n",
      "After this operation, 927 kB of additional disk space will be used.\n",
      "Get:1 http://archive.ubuntu.com/ubuntu jammy/universe amd64 libportaudio2 amd64 19.6.0-1.1 [65.3 kB]\n",
      "Get:2 http://archive.ubuntu.com/ubuntu jammy/universe amd64 libportaudiocpp0 amd64 19.6.0-1.1 [16.1 kB]\n",
      "Get:3 http://archive.ubuntu.com/ubuntu jammy/universe amd64 portaudio19-dev amd64 19.6.0-1.1 [106 kB]\n",
      "Fetched 188 kB in 1s (332 kB/s)        \n",
      "Selecting previously unselected package libportaudio2:amd64.\n",
      "(Reading database ... 129725 files and directories currently installed.)\n",
      "Preparing to unpack .../libportaudio2_19.6.0-1.1_amd64.deb ...\n",
      "Unpacking libportaudio2:amd64 (19.6.0-1.1) ...\n",
      "Selecting previously unselected package libportaudiocpp0:amd64.\n",
      "Preparing to unpack .../libportaudiocpp0_19.6.0-1.1_amd64.deb ...\n",
      "Unpacking libportaudiocpp0:amd64 (19.6.0-1.1) ...\n",
      "Selecting previously unselected package portaudio19-dev:amd64.\n",
      "Preparing to unpack .../portaudio19-dev_19.6.0-1.1_amd64.deb ...\n",
      "Unpacking portaudio19-dev:amd64 (19.6.0-1.1) ...\n",
      "Setting up libportaudio2:amd64 (19.6.0-1.1) ...\n",
      "Setting up libportaudiocpp0:amd64 (19.6.0-1.1) ...\n",
      "Setting up portaudio19-dev:amd64 (19.6.0-1.1) ...\n",
      "Processing triggers for libc-bin (2.35-0ubuntu3.8) ...\n",
      "/sbin/ldconfig.real: /usr/local/lib/libumf.so.0 is not a symbolic link\n",
      "\n",
      "/sbin/ldconfig.real: /usr/local/lib/libtcm.so.1 is not a symbolic link\n",
      "\n",
      "/sbin/ldconfig.real: /usr/local/lib/libtcm_debug.so.1 is not a symbolic link\n",
      "\n",
      "/sbin/ldconfig.real: /usr/local/lib/libhwloc.so.15 is not a symbolic link\n",
      "\n",
      "/sbin/ldconfig.real: /usr/local/lib/libur_loader.so.0 is not a symbolic link\n",
      "\n",
      "/sbin/ldconfig.real: /usr/local/lib/libur_adapter_level_zero.so.0 is not a symbolic link\n",
      "\n",
      "/sbin/ldconfig.real: /usr/local/lib/libur_adapter_opencl.so.0 is not a symbolic link\n",
      "\n",
      "/sbin/ldconfig.real: /usr/local/lib/libtbbbind_2_5.so.3 is not a symbolic link\n",
      "\n",
      "/sbin/ldconfig.real: /usr/local/lib/libtbbbind.so.3 is not a symbolic link\n",
      "\n",
      "/sbin/ldconfig.real: /usr/local/lib/libtbbbind_2_0.so.3 is not a symbolic link\n",
      "\n",
      "/sbin/ldconfig.real: /usr/local/lib/libtbb.so.12 is not a symbolic link\n",
      "\n",
      "/sbin/ldconfig.real: /usr/local/lib/libtbbmalloc_proxy.so.2 is not a symbolic link\n",
      "\n",
      "/sbin/ldconfig.real: /usr/local/lib/libtbbmalloc.so.2 is not a symbolic link\n",
      "\n"
     ]
    }
   ],
   "source": [
    "!apt-get update && apt-get install -y portaudio19-dev"
   ]
  },
  {
   "cell_type": "code",
   "execution_count": 22,
   "metadata": {
    "execution": {
     "iopub.execute_input": "2025-06-05T07:37:44.644098Z",
     "iopub.status.busy": "2025-06-05T07:37:44.643701Z",
     "iopub.status.idle": "2025-06-05T07:37:57.714021Z",
     "shell.execute_reply": "2025-06-05T07:37:57.712689Z",
     "shell.execute_reply.started": "2025-06-05T07:37:44.644065Z"
    },
    "trusted": true
   },
   "outputs": [
    {
     "name": "stdout",
     "output_type": "stream",
     "text": [
      "Collecting pyaudio\n",
      "  Downloading PyAudio-0.2.14.tar.gz (47 kB)\n",
      "\u001b[2K     \u001b[90m━━━━━━━━━━━━━━━━━━━━━━━━━━━━━━━━━━━━━━━━\u001b[0m \u001b[32m47.1/47.1 kB\u001b[0m \u001b[31m1.9 MB/s\u001b[0m eta \u001b[36m0:00:00\u001b[0m\n",
      "\u001b[?25h  Installing build dependencies ... \u001b[?25l\u001b[?25hdone\n",
      "  Getting requirements to build wheel ... \u001b[?25l\u001b[?25hdone\n",
      "  Preparing metadata (pyproject.toml) ... \u001b[?25l\u001b[?25hdone\n",
      "Building wheels for collected packages: pyaudio\n",
      "  Building wheel for pyaudio (pyproject.toml) ... \u001b[?25l\u001b[?25hdone\n",
      "  Created wheel for pyaudio: filename=pyaudio-0.2.14-cp311-cp311-linux_x86_64.whl size=67424 sha256=13dfe2e64744ca0f87243e8532ee5e35d4cb06903e577b233091cb9432ade05c\n",
      "  Stored in directory: /root/.cache/pip/wheels/80/b1/c1/67e4ef443de2665d86031d4760508094eab5de37d5d64d9c27\n",
      "Successfully built pyaudio\n",
      "Installing collected packages: pyaudio\n",
      "Successfully installed pyaudio-0.2.14\n"
     ]
    }
   ],
   "source": [
    "!pip install pyaudio"
   ]
  },
  {
   "cell_type": "code",
   "execution_count": 23,
   "metadata": {
    "execution": {
     "iopub.execute_input": "2025-06-05T07:38:07.200864Z",
     "iopub.status.busy": "2025-06-05T07:38:07.200534Z",
     "iopub.status.idle": "2025-06-05T07:38:07.253483Z",
     "shell.execute_reply": "2025-06-05T07:38:07.251489Z",
     "shell.execute_reply.started": "2025-06-05T07:38:07.200837Z"
    },
    "trusted": true
   },
   "outputs": [
    {
     "name": "stdout",
     "output_type": "stream",
     "text": [
      "PyAudio version: 0.2.14\n"
     ]
    },
    {
     "name": "stderr",
     "output_type": "stream",
     "text": [
      "ALSA lib confmisc.c:855:(parse_card) cannot find card '0'\n",
      "ALSA lib conf.c:5178:(_snd_config_evaluate) function snd_func_card_inum returned error: No such file or directory\n",
      "ALSA lib confmisc.c:422:(snd_func_concat) error evaluating strings\n",
      "ALSA lib conf.c:5178:(_snd_config_evaluate) function snd_func_concat returned error: No such file or directory\n",
      "ALSA lib confmisc.c:1334:(snd_func_refer) error evaluating name\n",
      "ALSA lib conf.c:5178:(_snd_config_evaluate) function snd_func_refer returned error: No such file or directory\n",
      "ALSA lib conf.c:5701:(snd_config_expand) Evaluate error: No such file or directory\n",
      "ALSA lib pcm.c:2664:(snd_pcm_open_noupdate) Unknown PCM sysdefault\n",
      "ALSA lib confmisc.c:855:(parse_card) cannot find card '0'\n",
      "ALSA lib conf.c:5178:(_snd_config_evaluate) function snd_func_card_inum returned error: No such file or directory\n",
      "ALSA lib confmisc.c:422:(snd_func_concat) error evaluating strings\n",
      "ALSA lib conf.c:5178:(_snd_config_evaluate) function snd_func_concat returned error: No such file or directory\n",
      "ALSA lib confmisc.c:1334:(snd_func_refer) error evaluating name\n",
      "ALSA lib conf.c:5178:(_snd_config_evaluate) function snd_func_refer returned error: No such file or directory\n",
      "ALSA lib conf.c:5701:(snd_config_expand) Evaluate error: No such file or directory\n",
      "ALSA lib pcm.c:2664:(snd_pcm_open_noupdate) Unknown PCM sysdefault\n",
      "ALSA lib pcm.c:2664:(snd_pcm_open_noupdate) Unknown PCM cards.pcm.front\n",
      "ALSA lib pcm.c:2664:(snd_pcm_open_noupdate) Unknown PCM cards.pcm.rear\n",
      "ALSA lib pcm.c:2664:(snd_pcm_open_noupdate) Unknown PCM cards.pcm.center_lfe\n",
      "ALSA lib pcm.c:2664:(snd_pcm_open_noupdate) Unknown PCM cards.pcm.side\n",
      "ALSA lib pcm.c:2664:(snd_pcm_open_noupdate) Unknown PCM cards.pcm.surround21\n",
      "ALSA lib pcm.c:2664:(snd_pcm_open_noupdate) Unknown PCM cards.pcm.surround21\n",
      "ALSA lib pcm.c:2664:(snd_pcm_open_noupdate) Unknown PCM cards.pcm.surround40\n",
      "ALSA lib pcm.c:2664:(snd_pcm_open_noupdate) Unknown PCM cards.pcm.surround41\n",
      "ALSA lib pcm.c:2664:(snd_pcm_open_noupdate) Unknown PCM cards.pcm.surround50\n",
      "ALSA lib pcm.c:2664:(snd_pcm_open_noupdate) Unknown PCM cards.pcm.surround51\n",
      "ALSA lib pcm.c:2664:(snd_pcm_open_noupdate) Unknown PCM cards.pcm.surround71\n",
      "ALSA lib pcm.c:2664:(snd_pcm_open_noupdate) Unknown PCM cards.pcm.iec958\n",
      "ALSA lib pcm.c:2664:(snd_pcm_open_noupdate) Unknown PCM cards.pcm.iec958\n",
      "ALSA lib pcm.c:2664:(snd_pcm_open_noupdate) Unknown PCM cards.pcm.iec958\n",
      "ALSA lib pcm.c:2664:(snd_pcm_open_noupdate) Unknown PCM cards.pcm.hdmi\n",
      "ALSA lib pcm.c:2664:(snd_pcm_open_noupdate) Unknown PCM cards.pcm.hdmi\n",
      "ALSA lib pcm.c:2664:(snd_pcm_open_noupdate) Unknown PCM cards.pcm.modem\n",
      "ALSA lib pcm.c:2664:(snd_pcm_open_noupdate) Unknown PCM cards.pcm.modem\n",
      "ALSA lib pcm.c:2664:(snd_pcm_open_noupdate) Unknown PCM cards.pcm.phoneline\n",
      "ALSA lib pcm.c:2664:(snd_pcm_open_noupdate) Unknown PCM cards.pcm.phoneline\n",
      "ALSA lib confmisc.c:855:(parse_card) cannot find card '0'\n",
      "ALSA lib conf.c:5178:(_snd_config_evaluate) function snd_func_card_inum returned error: No such file or directory\n",
      "ALSA lib confmisc.c:422:(snd_func_concat) error evaluating strings\n",
      "ALSA lib conf.c:5178:(_snd_config_evaluate) function snd_func_concat returned error: No such file or directory\n",
      "ALSA lib confmisc.c:1334:(snd_func_refer) error evaluating name\n",
      "ALSA lib conf.c:5178:(_snd_config_evaluate) function snd_func_refer returned error: No such file or directory\n",
      "ALSA lib conf.c:5701:(snd_config_expand) Evaluate error: No such file or directory\n",
      "ALSA lib pcm.c:2664:(snd_pcm_open_noupdate) Unknown PCM default\n",
      "ALSA lib confmisc.c:855:(parse_card) cannot find card '0'\n",
      "ALSA lib conf.c:5178:(_snd_config_evaluate) function snd_func_card_inum returned error: No such file or directory\n",
      "ALSA lib confmisc.c:422:(snd_func_concat) error evaluating strings\n",
      "ALSA lib conf.c:5178:(_snd_config_evaluate) function snd_func_concat returned error: No such file or directory\n",
      "ALSA lib confmisc.c:1334:(snd_func_refer) error evaluating name\n",
      "ALSA lib conf.c:5178:(_snd_config_evaluate) function snd_func_refer returned error: No such file or directory\n",
      "ALSA lib conf.c:5701:(snd_config_expand) Evaluate error: No such file or directory\n",
      "ALSA lib pcm.c:2664:(snd_pcm_open_noupdate) Unknown PCM default\n",
      "ALSA lib confmisc.c:855:(parse_card) cannot find card '0'\n",
      "ALSA lib conf.c:5178:(_snd_config_evaluate) function snd_func_card_id returned error: No such file or directory\n",
      "ALSA lib confmisc.c:422:(snd_func_concat) error evaluating strings\n",
      "ALSA lib conf.c:5178:(_snd_config_evaluate) function snd_func_concat returned error: No such file or directory\n",
      "ALSA lib confmisc.c:1334:(snd_func_refer) error evaluating name\n",
      "ALSA lib conf.c:5178:(_snd_config_evaluate) function snd_func_refer returned error: No such file or directory\n",
      "ALSA lib conf.c:5701:(snd_config_expand) Evaluate error: No such file or directory\n",
      "ALSA lib pcm.c:2664:(snd_pcm_open_noupdate) Unknown PCM dmix\n"
     ]
    },
    {
     "ename": "OSError",
     "evalue": "No Default Input Device Available",
     "output_type": "error",
     "traceback": [
      "\u001b[0;31m---------------------------------------------------------------------------\u001b[0m",
      "\u001b[0;31mOSError\u001b[0m                                   Traceback (most recent call last)",
      "\u001b[0;32m/tmp/ipykernel_76/2750354601.py\u001b[0m in \u001b[0;36m<cell line: 0>\u001b[0;34m()\u001b[0m\n\u001b[1;32m      3\u001b[0m \u001b[0mp\u001b[0m \u001b[0;34m=\u001b[0m \u001b[0mpyaudio\u001b[0m\u001b[0;34m.\u001b[0m\u001b[0mPyAudio\u001b[0m\u001b[0;34m(\u001b[0m\u001b[0;34m)\u001b[0m\u001b[0;34m\u001b[0m\u001b[0;34m\u001b[0m\u001b[0m\n\u001b[1;32m      4\u001b[0m \u001b[0mprint\u001b[0m\u001b[0;34m(\u001b[0m\u001b[0;34m\"PyAudio version:\"\u001b[0m\u001b[0;34m,\u001b[0m \u001b[0mpyaudio\u001b[0m\u001b[0;34m.\u001b[0m\u001b[0m__version__\u001b[0m\u001b[0;34m)\u001b[0m\u001b[0;34m\u001b[0m\u001b[0;34m\u001b[0m\u001b[0m\n\u001b[0;32m----> 5\u001b[0;31m \u001b[0mprint\u001b[0m\u001b[0;34m(\u001b[0m\u001b[0;34m\"Default input device info:\"\u001b[0m\u001b[0;34m,\u001b[0m \u001b[0mp\u001b[0m\u001b[0;34m.\u001b[0m\u001b[0mget_default_input_device_info\u001b[0m\u001b[0;34m(\u001b[0m\u001b[0;34m)\u001b[0m\u001b[0;34m)\u001b[0m\u001b[0;34m\u001b[0m\u001b[0;34m\u001b[0m\u001b[0m\n\u001b[0m\u001b[1;32m      6\u001b[0m \u001b[0mp\u001b[0m\u001b[0;34m.\u001b[0m\u001b[0mterminate\u001b[0m\u001b[0;34m(\u001b[0m\u001b[0;34m)\u001b[0m\u001b[0;34m\u001b[0m\u001b[0;34m\u001b[0m\u001b[0m\n",
      "\u001b[0;32m/usr/local/lib/python3.11/dist-packages/pyaudio/__init__.py\u001b[0m in \u001b[0;36mget_default_input_device_info\u001b[0;34m(self)\u001b[0m\n\u001b[1;32m    810\u001b[0m         \u001b[0;34m:\u001b[0m\u001b[0mrtype\u001b[0m\u001b[0;34m:\u001b[0m \u001b[0mdict\u001b[0m\u001b[0;34m\u001b[0m\u001b[0;34m\u001b[0m\u001b[0m\n\u001b[1;32m    811\u001b[0m         \"\"\"\n\u001b[0;32m--> 812\u001b[0;31m         \u001b[0mdevice_index\u001b[0m \u001b[0;34m=\u001b[0m \u001b[0mpa\u001b[0m\u001b[0;34m.\u001b[0m\u001b[0mget_default_input_device\u001b[0m\u001b[0;34m(\u001b[0m\u001b[0;34m)\u001b[0m\u001b[0;34m\u001b[0m\u001b[0;34m\u001b[0m\u001b[0m\n\u001b[0m\u001b[1;32m    813\u001b[0m         \u001b[0;32mreturn\u001b[0m \u001b[0mself\u001b[0m\u001b[0;34m.\u001b[0m\u001b[0mget_device_info_by_index\u001b[0m\u001b[0;34m(\u001b[0m\u001b[0mdevice_index\u001b[0m\u001b[0;34m)\u001b[0m\u001b[0;34m\u001b[0m\u001b[0;34m\u001b[0m\u001b[0m\n\u001b[1;32m    814\u001b[0m \u001b[0;34m\u001b[0m\u001b[0m\n",
      "\u001b[0;31mOSError\u001b[0m: No Default Input Device Available"
     ]
    }
   ],
   "source": [
    "# 3. (可选) 验证安装\n",
    "import pyaudio\n",
    "p = pyaudio.PyAudio()\n",
    "print(\"PyAudio version:\", pyaudio.__version__)\n",
    "print(\"Default input device info:\", p.get_default_input_device_info())\n",
    "p.terminate()"
   ]
  },
  {
   "cell_type": "code",
   "execution_count": 10,
   "metadata": {
    "execution": {
     "iopub.execute_input": "2025-06-05T06:16:15.024135Z",
     "iopub.status.busy": "2025-06-05T06:16:15.023372Z",
     "iopub.status.idle": "2025-06-05T06:16:15.031111Z",
     "shell.execute_reply": "2025-06-05T06:16:15.029295Z",
     "shell.execute_reply.started": "2025-06-05T06:16:15.024090Z"
    },
    "trusted": true
   },
   "outputs": [],
   "source": [
    "import speech_recognition as sr\n",
    "import pyttsx3\n",
    "import google.generativeai as genai"
   ]
  },
  {
   "cell_type": "code",
   "execution_count": 13,
   "metadata": {
    "execution": {
     "iopub.execute_input": "2025-06-05T06:47:27.467406Z",
     "iopub.status.busy": "2025-06-05T06:47:27.467118Z",
     "iopub.status.idle": "2025-06-05T06:47:27.517205Z",
     "shell.execute_reply": "2025-06-05T06:47:27.515721Z",
     "shell.execute_reply.started": "2025-06-05T06:47:27.467376Z"
    },
    "trusted": true
   },
   "outputs": [],
   "source": [
    "# Initializing pyttsx3\n",
    "listening = True\n",
    "sending_to_gemini = False\n",
    "engine = pyttsx3.init()"
   ]
  },
  {
   "cell_type": "code",
   "execution_count": null,
   "metadata": {
    "execution": {
     "iopub.execute_input": "2025-06-05T07:04:40.585629Z",
     "iopub.status.busy": "2025-06-05T07:04:40.585291Z",
     "iopub.status.idle": "2025-06-05T07:04:40.591675Z",
     "shell.execute_reply": "2025-06-05T07:04:40.590371Z",
     "shell.execute_reply.started": "2025-06-05T07:04:40.585607Z"
    },
    "trusted": true
   },
   "outputs": [],
   "source": [
    "# Set up the Google Gemini API\n",
    "genai.configure(api_key=\"\")"
   ]
  },
  {
   "cell_type": "code",
   "execution_count": 15,
   "metadata": {
    "execution": {
     "iopub.execute_input": "2025-06-05T07:08:12.066148Z",
     "iopub.status.busy": "2025-06-05T07:08:12.065765Z",
     "iopub.status.idle": "2025-06-05T07:08:12.073439Z",
     "shell.execute_reply": "2025-06-05T07:08:12.072080Z",
     "shell.execute_reply.started": "2025-06-05T07:08:12.066127Z"
    },
    "trusted": true
   },
   "outputs": [],
   "source": [
    "# Set up the model\n",
    "generation_config = {\n",
    "    \"temperature\": 1,\n",
    "    \"top_p\": 0.95,\n",
    "    \"top_k\": 0,\n",
    "    \"max_output_tokens\": 8192,\n",
    "}"
   ]
  },
  {
   "cell_type": "code",
   "execution_count": 16,
   "metadata": {
    "execution": {
     "iopub.execute_input": "2025-06-05T07:08:20.500266Z",
     "iopub.status.busy": "2025-06-05T07:08:20.499736Z",
     "iopub.status.idle": "2025-06-05T07:08:20.505780Z",
     "shell.execute_reply": "2025-06-05T07:08:20.504555Z",
     "shell.execute_reply.started": "2025-06-05T07:08:20.500241Z"
    },
    "trusted": true
   },
   "outputs": [],
   "source": [
    "safety_settings = [\n",
    "    {\n",
    "        \"category\": \"HARM_CATEGORY_HARASSMENT\",\n",
    "        \"threshold\": \"BLOCK_MEDIUM_AND_ABOVE\"\n",
    "    },\n",
    "    {\n",
    "        \"category\": \"HARM_CATEGORY_HATE_SPEECH\",\n",
    "        \"threshold\": \"BLOCK_MEDIUM_AND_ABOVE\"\n",
    "    },\n",
    "    {\n",
    "        \"category\": \"HARM_CATEGORY_SEXUALLY_EXPLICIT\",\n",
    "        \"threshold\": \"BLOCK_MEDIUM_AND_ABOVE\"\n",
    "    },\n",
    "    {\n",
    "        \"category\": \"HARM_CATEGORY_DANGEROUS_CONTENT\",\n",
    "        \"threshold\": \"BLOCK_MEDIUM_AND_ABOVE\"\n",
    "    },\n",
    "]"
   ]
  },
  {
   "cell_type": "code",
   "execution_count": 17,
   "metadata": {
    "execution": {
     "iopub.execute_input": "2025-06-05T07:08:34.898627Z",
     "iopub.status.busy": "2025-06-05T07:08:34.898307Z",
     "iopub.status.idle": "2025-06-05T07:08:34.913462Z",
     "shell.execute_reply": "2025-06-05T07:08:34.912376Z",
     "shell.execute_reply.started": "2025-06-05T07:08:34.898604Z"
    },
    "trusted": true
   },
   "outputs": [],
   "source": [
    "# Customizing The output voice\n",
    "voices = engine.getProperty('voices')\n",
    "rate = engine.getProperty('rate')\n",
    "volume = engine.getProperty('volume')\n",
    "\n",
    "model = genai.GenerativeModel(model_name=\"gemini-1.5-pro-latest\",\n",
    "                              generation_config=generation_config,\n",
    "                              safety_settings=safety_settings)\n",
    "\n",
    "convo = model.start_chat(history=[])"
   ]
  },
  {
   "cell_type": "code",
   "execution_count": 18,
   "metadata": {
    "execution": {
     "iopub.execute_input": "2025-06-05T07:08:42.658651Z",
     "iopub.status.busy": "2025-06-05T07:08:42.658346Z",
     "iopub.status.idle": "2025-06-05T07:08:42.664579Z",
     "shell.execute_reply": "2025-06-05T07:08:42.663249Z",
     "shell.execute_reply.started": "2025-06-05T07:08:42.658631Z"
    },
    "trusted": true
   },
   "outputs": [],
   "source": [
    "def get_response(user_input):\n",
    "    convo.send_message(user_input)\n",
    "    gemini_reply = convo.last.text\n",
    "    print(gemini_reply)\n",
    "    return gemini_reply"
   ]
  },
  {
   "cell_type": "code",
   "execution_count": 19,
   "metadata": {
    "execution": {
     "iopub.execute_input": "2025-06-05T07:08:53.505413Z",
     "iopub.status.busy": "2025-06-05T07:08:53.505035Z",
     "iopub.status.idle": "2025-06-05T07:08:53.510998Z",
     "shell.execute_reply": "2025-06-05T07:08:53.509959Z",
     "shell.execute_reply.started": "2025-06-05T07:08:53.505387Z"
    },
    "trusted": true
   },
   "outputs": [],
   "source": [
    "exit_words = [\"exit\", \"stop\", \"quit\", \"bye\", \"goodbye\"]  # Add your exit words here\n",
    "wake_word = \"gemini\"  # Set your wake word here"
   ]
  },
  {
   "cell_type": "code",
   "execution_count": 24,
   "metadata": {
    "_cell_guid": "b1076dfc-b9ad-4769-8c92-a6c4dae69d19",
    "_uuid": "8f2839f25d086af736a60e9eeb907d3b93b6e0e5",
    "execution": {
     "iopub.execute_input": "2025-06-05T07:48:57.451219Z",
     "iopub.status.busy": "2025-06-05T07:48:57.450852Z",
     "iopub.status.idle": "2025-06-05T07:48:57.471527Z",
     "shell.execute_reply": "2025-06-05T07:48:57.469866Z",
     "shell.execute_reply.started": "2025-06-05T07:48:57.451194Z"
    },
    "trusted": true
   },
   "outputs": [
    {
     "ename": "OSError",
     "evalue": "No Default Input Device Available",
     "output_type": "error",
     "traceback": [
      "\u001b[0;31m---------------------------------------------------------------------------\u001b[0m",
      "\u001b[0;31mOSError\u001b[0m                                   Traceback (most recent call last)",
      "\u001b[0;32m/tmp/ipykernel_76/2817669131.py\u001b[0m in \u001b[0;36m<cell line: 0>\u001b[0;34m()\u001b[0m\n\u001b[1;32m      5\u001b[0m \u001b[0;34m\u001b[0m\u001b[0m\n\u001b[1;32m      6\u001b[0m \u001b[0;32mwhile\u001b[0m \u001b[0mlistening\u001b[0m\u001b[0;34m:\u001b[0m\u001b[0;34m\u001b[0m\u001b[0;34m\u001b[0m\u001b[0m\n\u001b[0;32m----> 7\u001b[0;31m     \u001b[0;32mwith\u001b[0m \u001b[0msr\u001b[0m\u001b[0;34m.\u001b[0m\u001b[0mMicrophone\u001b[0m\u001b[0;34m(\u001b[0m\u001b[0;34m)\u001b[0m \u001b[0;32mas\u001b[0m \u001b[0msource\u001b[0m\u001b[0;34m:\u001b[0m\u001b[0;34m\u001b[0m\u001b[0;34m\u001b[0m\u001b[0m\n\u001b[0m\u001b[1;32m      8\u001b[0m         \u001b[0mrecognizer\u001b[0m \u001b[0;34m=\u001b[0m \u001b[0msr\u001b[0m\u001b[0;34m.\u001b[0m\u001b[0mRecognizer\u001b[0m\u001b[0;34m(\u001b[0m\u001b[0;34m)\u001b[0m\u001b[0;34m\u001b[0m\u001b[0;34m\u001b[0m\u001b[0m\n\u001b[1;32m      9\u001b[0m         \u001b[0mrecognizer\u001b[0m\u001b[0;34m.\u001b[0m\u001b[0madjust_for_ambient_noise\u001b[0m\u001b[0;34m(\u001b[0m\u001b[0msource\u001b[0m\u001b[0;34m)\u001b[0m\u001b[0;34m\u001b[0m\u001b[0;34m\u001b[0m\u001b[0m\n",
      "\u001b[0;32m/usr/local/lib/python3.11/dist-packages/speech_recognition/__init__.py\u001b[0m in \u001b[0;36m__init__\u001b[0;34m(self, device_index, sample_rate, chunk_size)\u001b[0m\n\u001b[1;32m     80\u001b[0m                 \u001b[0;32massert\u001b[0m \u001b[0;36m0\u001b[0m \u001b[0;34m<=\u001b[0m \u001b[0mdevice_index\u001b[0m \u001b[0;34m<\u001b[0m \u001b[0mcount\u001b[0m\u001b[0;34m,\u001b[0m \u001b[0;34m\"Device index out of range ({} devices available; device index should be between 0 and {} inclusive)\"\u001b[0m\u001b[0;34m.\u001b[0m\u001b[0mformat\u001b[0m\u001b[0;34m(\u001b[0m\u001b[0mcount\u001b[0m\u001b[0;34m,\u001b[0m \u001b[0mcount\u001b[0m \u001b[0;34m-\u001b[0m \u001b[0;36m1\u001b[0m\u001b[0;34m)\u001b[0m\u001b[0;34m\u001b[0m\u001b[0;34m\u001b[0m\u001b[0m\n\u001b[1;32m     81\u001b[0m             \u001b[0;32mif\u001b[0m \u001b[0msample_rate\u001b[0m \u001b[0;32mis\u001b[0m \u001b[0;32mNone\u001b[0m\u001b[0;34m:\u001b[0m  \u001b[0;31m# automatically set the sample rate to the hardware's default sample rate if not specified\u001b[0m\u001b[0;34m\u001b[0m\u001b[0;34m\u001b[0m\u001b[0m\n\u001b[0;32m---> 82\u001b[0;31m                 \u001b[0mdevice_info\u001b[0m \u001b[0;34m=\u001b[0m \u001b[0maudio\u001b[0m\u001b[0;34m.\u001b[0m\u001b[0mget_device_info_by_index\u001b[0m\u001b[0;34m(\u001b[0m\u001b[0mdevice_index\u001b[0m\u001b[0;34m)\u001b[0m \u001b[0;32mif\u001b[0m \u001b[0mdevice_index\u001b[0m \u001b[0;32mis\u001b[0m \u001b[0;32mnot\u001b[0m \u001b[0;32mNone\u001b[0m \u001b[0;32melse\u001b[0m \u001b[0maudio\u001b[0m\u001b[0;34m.\u001b[0m\u001b[0mget_default_input_device_info\u001b[0m\u001b[0;34m(\u001b[0m\u001b[0;34m)\u001b[0m\u001b[0;34m\u001b[0m\u001b[0;34m\u001b[0m\u001b[0m\n\u001b[0m\u001b[1;32m     83\u001b[0m                 \u001b[0;32massert\u001b[0m \u001b[0misinstance\u001b[0m\u001b[0;34m(\u001b[0m\u001b[0mdevice_info\u001b[0m\u001b[0;34m.\u001b[0m\u001b[0mget\u001b[0m\u001b[0;34m(\u001b[0m\u001b[0;34m\"defaultSampleRate\"\u001b[0m\u001b[0;34m)\u001b[0m\u001b[0;34m,\u001b[0m \u001b[0;34m(\u001b[0m\u001b[0mfloat\u001b[0m\u001b[0;34m,\u001b[0m \u001b[0mint\u001b[0m\u001b[0;34m)\u001b[0m\u001b[0;34m)\u001b[0m \u001b[0;32mand\u001b[0m \u001b[0mdevice_info\u001b[0m\u001b[0;34m[\u001b[0m\u001b[0;34m\"defaultSampleRate\"\u001b[0m\u001b[0;34m]\u001b[0m \u001b[0;34m>\u001b[0m \u001b[0;36m0\u001b[0m\u001b[0;34m,\u001b[0m \u001b[0;34m\"Invalid device info returned from PyAudio: {}\"\u001b[0m\u001b[0;34m.\u001b[0m\u001b[0mformat\u001b[0m\u001b[0;34m(\u001b[0m\u001b[0mdevice_info\u001b[0m\u001b[0;34m)\u001b[0m\u001b[0;34m\u001b[0m\u001b[0;34m\u001b[0m\u001b[0m\n\u001b[1;32m     84\u001b[0m                 \u001b[0msample_rate\u001b[0m \u001b[0;34m=\u001b[0m \u001b[0mint\u001b[0m\u001b[0;34m(\u001b[0m\u001b[0mdevice_info\u001b[0m\u001b[0;34m[\u001b[0m\u001b[0;34m\"defaultSampleRate\"\u001b[0m\u001b[0;34m]\u001b[0m\u001b[0;34m)\u001b[0m\u001b[0;34m\u001b[0m\u001b[0;34m\u001b[0m\u001b[0m\n",
      "\u001b[0;32m/usr/local/lib/python3.11/dist-packages/pyaudio/__init__.py\u001b[0m in \u001b[0;36mget_default_input_device_info\u001b[0;34m(self)\u001b[0m\n\u001b[1;32m    810\u001b[0m         \u001b[0;34m:\u001b[0m\u001b[0mrtype\u001b[0m\u001b[0;34m:\u001b[0m \u001b[0mdict\u001b[0m\u001b[0;34m\u001b[0m\u001b[0;34m\u001b[0m\u001b[0m\n\u001b[1;32m    811\u001b[0m         \"\"\"\n\u001b[0;32m--> 812\u001b[0;31m         \u001b[0mdevice_index\u001b[0m \u001b[0;34m=\u001b[0m \u001b[0mpa\u001b[0m\u001b[0;34m.\u001b[0m\u001b[0mget_default_input_device\u001b[0m\u001b[0;34m(\u001b[0m\u001b[0;34m)\u001b[0m\u001b[0;34m\u001b[0m\u001b[0;34m\u001b[0m\u001b[0m\n\u001b[0m\u001b[1;32m    813\u001b[0m         \u001b[0;32mreturn\u001b[0m \u001b[0mself\u001b[0m\u001b[0;34m.\u001b[0m\u001b[0mget_device_info_by_index\u001b[0m\u001b[0;34m(\u001b[0m\u001b[0mdevice_index\u001b[0m\u001b[0;34m)\u001b[0m\u001b[0;34m\u001b[0m\u001b[0;34m\u001b[0m\u001b[0m\n\u001b[1;32m    814\u001b[0m \u001b[0;34m\u001b[0m\u001b[0m\n",
      "\u001b[0;31mOSError\u001b[0m: No Default Input Device Available"
     ]
    }
   ],
   "source": [
    "# 闻诊+问诊\n",
    "# Gemini API\n",
    "# RAG\n",
    "# 抑郁症问卷\n",
    "\n",
    "while listening:\n",
    "    with sr.Microphone() as source:\n",
    "        recognizer = sr.Recognizer()\n",
    "        recognizer.adjust_for_ambient_noise(source)\n",
    "        recognizer.dynamic_energy_threshold = 3000\n",
    "\n",
    "        try:\n",
    "            print(\"Listening...\")\n",
    "            audio = recognizer.listen(source, timeout=5.0)\n",
    "            response = recognizer.recognize_google(audio)\n",
    "            print(response)\n",
    "\n",
    "            if any(exit_word in response.lower() for exit_word in exit_words):\n",
    "                sending_to_gemini = False\n",
    "                print(\"Stopped sending responses to Gemini.\")\n",
    "                continue\n",
    "\n",
    "            if wake_word in response.lower() and not sending_to_gemini:\n",
    "                sending_to_gemini = True\n",
    "                print(\"Resumed sending responses to Gemini.\")\n",
    "\n",
    "            if sending_to_gemini:\n",
    "                response_from_gemini = get_response(response)\n",
    "                engine.setProperty('rate', 200)\n",
    "                engine.setProperty('volume', volume)\n",
    "                engine.setProperty('voice', 'greek')\n",
    "                engine.say(response_from_gemini)\n",
    "                engine.runAndWait()\n",
    "\n",
    "        except sr.UnknownValueError:\n",
    "            print(\"Didn't recognize anything.\")"
   ]
  },
  {
   "cell_type": "code",
   "execution_count": null,
   "metadata": {
    "trusted": true
   },
   "outputs": [],
   "source": []
  },
  {
   "cell_type": "code",
   "execution_count": null,
   "metadata": {
    "trusted": true
   },
   "outputs": [],
   "source": []
  },
  {
   "cell_type": "markdown",
   "metadata": {},
   "source": [
    "1. 增加高级音频分析能力 (Python层面)\n",
    "2. AI模型进行声音特质辨别与分类\n",
    "3. AI大模型微调（Fine-tuning）或与专业模型结合"
   ]
  },
  {
   "cell_type": "code",
   "execution_count": null,
   "metadata": {
    "trusted": true
   },
   "outputs": [],
   "source": [
    "import speech_recognition as sr # 现有代码\n",
    "import pyttsx3 # 现有代码\n",
    "import google.generativeai as genai # 现有代码\n",
    "import librosa # 新增，用于音频分析\n",
    "import numpy as np # 新增，用于数据处理\n",
    "# import parselmouth # 新增，可选\n",
    "# from sklearn.svm import SVC # 新增，如果用传统机器学习分类声音特质\n",
    "# import tensorflow as tf # 新增，如果用深度学习模型\n",
    "\n",
    "# --- 全局变量和初始化 (部分省略) ---\n",
    "# ... 您的Gemini和TTS初始化代码 ...\n",
    "\n",
    "# 假设有一个预训练的声音特质分类模型 (sound_classifier_model)\n",
    "# sound_classifier_model = tf.keras.models.load_model('path_to_your_sound_classifier_model.h5')\n",
    "# 或者一个特征提取后用sklearn训练的模型\n",
    "# feature_extractor_and_classifier = load_sklearn_model('path_to_feature_classifier.pkl')\n",
    "\n",
    "def analyze_sound_qualities(audio_data_segment):\n",
    "    \"\"\"\n",
    "    分析音频片段的声音特质 (这是一个高度简化的示例)\n",
    "    真实场景会复杂得多\n",
    "    \"\"\"\n",
    "    try:\n",
    "        # 将speech_recognition的AudioData转换为numpy数组，再用librosa处理\n",
    "        # 注意：sr.AudioData.get_wav_data() 返回的是WAV格式的字节流\n",
    "        # 需要先将其转换为numpy数组，并知道采样率\n",
    "        # 假设采样率是16000 Hz (常见的STT采样率)\n",
    "        sample_rate = 16000 # 需要确认实际的采样率\n",
    "        audio_np = np.frombuffer(audio_data_segment.get_wav_data(), dtype=np.int16).astype(np.float32) / 32768.0\n",
    "\n",
    "        # 1. 提取特征 (示例：MFCCs 和 音高)\n",
    "        mfccs = librosa.feature.mfcc(y=audio_np, sr=sample_rate, n_mfcc=13)\n",
    "        mfccs_mean = np.mean(mfccs.T, axis=0)\n",
    "\n",
    "        pitches, magnitudes = librosa.piptrack(y=audio_np, sr=sample_rate)\n",
    "        pitch_mean = np.mean(pitches[magnitudes > np.median(magnitudes)]) if np.any(magnitudes > 0) else 0\n",
    "\n",
    "        # 2. 使用专门模型进行分类/描述 (高度简化)\n",
    "        # 这里应该是调用您训练好的模型\n",
    "        sound_description = []\n",
    "        if pitch_mean < 100 and pitch_mean > 0 : # 假设低音调\n",
    "            sound_description.append(\"声音可能偏低沉\")\n",
    "        if np.mean(librosa.feature.rms(y=audio_np).flatten()) < 0.01: # 假设音量小\n",
    "            sound_description.append(\"声音可能偏弱\")\n",
    "        \n",
    "        # 更多、更复杂的特征和模型判断逻辑...\n",
    "        # if feature_extractor_and_classifier.predict(extracted_features) == \"wet_cough\":\n",
    "        #     sound_description.append(\"咳嗽声听起来像是湿咳\")\n",
    "\n",
    "        if not sound_description:\n",
    "            return \"未能从该段音频中提取明确的声音特质。\"\n",
    "        return \"声音特质分析: \" + \"；\".join(sound_description)\n",
    "\n",
    "    except Exception as e:\n",
    "        print(f\"音频特质分析出错: {e}\")\n",
    "        return \"音频特质分析失败。\"\n",
    "\n",
    "# --- 主循环 (部分修改) ---\n",
    "# convo = model.start_chat(history=[]) # Gemini聊天初始化\n",
    "\n",
    "# def get_response_from_gemini(user_text, sound_analysis_text=\"\"):\n",
    "#     prompt = f\"病人自述：'{user_text}'。\"\n",
    "#     if sound_analysis_text:\n",
    "#         prompt += f\"\\n声音特征提示：'{sound_analysis_text}'。\"\n",
    "#     prompt += \"\\n请你作为一名AI中医助手，根据以上信息进行初步分析或提出建议性的追问问题。\"\n",
    "    \n",
    "#     print(f\"\\n[DEBUG] Sending to Gemini: {prompt}\")\n",
    "#     convo.send_message(prompt)\n",
    "#     gemini_reply = convo.last.text\n",
    "#     print(f\"Gemini 回复: {gemini_reply}\")\n",
    "#     return gemini_reply\n",
    "\n",
    "# ...\n",
    "# while listening:\n",
    "#     with sr.Microphone() as source:\n",
    "#         # ... (识别用户主要意图的语音)\n",
    "#         try:\n",
    "#             print(\"请描述您的主要症状...\")\n",
    "#             audio_main_symptom = recognizer.listen(source, timeout=5.0, phrase_time_limit=10)\n",
    "#             user_speech_text = recognizer.recognize_google(audio_main_symptom, language=\"zh-CN\")\n",
    "#             print(f\"您说: {user_speech_text}\")\n",
    "\n",
    "#             sound_analysis_report = \"\"\n",
    "#             if \"咳嗽\" in user_speech_text or \"喘\" in user_speech_text or \"呼吸\" in user_speech_text: # 简单触发\n",
    "#                 print(\"现在，请您咳嗽几声或深呼吸几次，以便我分析声音...\")\n",
    "#                 engine.say(\"现在，请您咳嗽几声或深呼吸几次，以便我分析声音。\")\n",
    "#                 engine.runAndWait()\n",
    "#                 # 再次收音，专门用于分析声音特质\n",
    "#                 audio_for_analysis = recognizer.listen(source, timeout=7.0, phrase_time_limit=7)\n",
    "#                 sound_analysis_report = analyze_sound_qualities(audio_for_analysis)\n",
    "#                 print(f\"声音分析报告: {sound_analysis_report}\")\n",
    "#                 engine.say(sound_analysis_report) # 可以选择是否读出分析报告\n",
    "#                 engine.runAndWait()\n",
    "\n",
    "#             if sending_to_gemini: # 假设此标志位已正确设置\n",
    "#                 response_from_gemini = get_response_from_gemini(user_speech_text, sound_analysis_report)\n",
    "#                 engine.say(response_from_gemini)\n",
    "#                 engine.runAndWait()\n",
    "#         # ... (异常处理)\n",
    "# ..."
   ]
  }
 ],
 "metadata": {
  "kaggle": {
   "accelerator": "none",
   "dataSources": [],
   "dockerImageVersionId": 31040,
   "isGpuEnabled": false,
   "isInternetEnabled": true,
   "language": "python",
   "sourceType": "notebook"
  },
  "kernelspec": {
   "display_name": "Python 3",
   "language": "python",
   "name": "python3"
  },
  "language_info": {
   "codemirror_mode": {
    "name": "ipython",
    "version": 3
   },
   "file_extension": ".py",
   "mimetype": "text/x-python",
   "name": "python",
   "nbconvert_exporter": "python",
   "pygments_lexer": "ipython3",
   "version": "3.11.11"
  }
 },
 "nbformat": 4,
 "nbformat_minor": 4
}
